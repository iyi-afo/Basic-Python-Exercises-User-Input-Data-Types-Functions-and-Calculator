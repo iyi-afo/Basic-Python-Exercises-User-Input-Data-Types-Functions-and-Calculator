{
 "cells": [
  {
   "cell_type": "code",
   "execution_count": 8,
   "id": "b6bf60ee-ef76-49b9-a6ee-ce55130b5614",
   "metadata": {},
   "outputs": [
    {
     "name": "stdout",
     "output_type": "stream",
     "text": [
      "<class 'int'>\n",
      "<class 'float'>\n",
      "<class 'str'>\n",
      "<class 'bool'>\n"
     ]
    }
   ],
   "source": [
    "Age = 25\n",
    "Height = 1.75\n",
    "Name = \"Iyiola Afolabi\"\n",
    "Is_student = True\n",
    "\n",
    "print(type(Age))\n",
    "print(type(Height))\n",
    "print(type(Name))\n",
    "print(type(Is_student))"
   ]
  },
  {
   "cell_type": "code",
   "execution_count": 9,
   "id": "e224fab2-ffab-4680-aa34-c471349dcd6d",
   "metadata": {},
   "outputs": [
    {
     "name": "stdout",
     "output_type": "stream",
     "text": [
      "You're Welcome Iyiola Afolabi\n"
     ]
    }
   ],
   "source": [
    "greet_user = \"Iyiola Afolabi\"\n",
    "def myfunc():\n",
    "    print(\"You're Welcome\", greet_user)\n",
    "myfunc()"
   ]
  },
  {
   "cell_type": "code",
   "execution_count": 10,
   "id": "2a5fefcb-8be4-4c22-b241-5da665e0deb2",
   "metadata": {},
   "outputs": [
    {
     "name": "stdin",
     "output_type": "stream",
     "text": [
      "Enter your user_name admin\n",
      "Enter your password 1234\n"
     ]
    },
    {
     "name": "stdout",
     "output_type": "stream",
     "text": [
      "Login Successful\n"
     ]
    }
   ],
   "source": [
    "user_name = str(input(\"Enter your user_name\"))\n",
    "password = str(input(\"Enter your password\"))\n",
    "\n",
    "if user_name == \"admin\":\n",
    "    print(\"Login Successful\")\n",
    "elif password == 1234:\n",
    "    print(\"Login Successful\")\n",
    "else:\n",
    "    print(\"Access denied\")"
   ]
  },
  {
   "cell_type": "code",
   "execution_count": 11,
   "id": "10382c5d-5fcb-40de-a08b-e5ea1796bdea",
   "metadata": {},
   "outputs": [
    {
     "name": "stdin",
     "output_type": "stream",
     "text": [
      "Enter your user_name Admin\n",
      "Enter your password 1234\n"
     ]
    },
    {
     "name": "stdout",
     "output_type": "stream",
     "text": [
      "Access denied\n"
     ]
    }
   ],
   "source": [
    "user_name = str(input(\"Enter your user_name\"))\n",
    "password = str(input(\"Enter your password\"))\n",
    "\n",
    "if user_name == \"admin\":\n",
    "    print(\"Login Successful\")\n",
    "elif password == 1234:\n",
    "    print(\"Login Successful\")\n",
    "else:\n",
    "    print(\"Access denied\")"
   ]
  },
  {
   "cell_type": "code",
   "execution_count": 3,
   "id": "71366e3b-5b59-4aa5-8fe0-0140d23e7e38",
   "metadata": {},
   "outputs": [
    {
     "name": "stdin",
     "output_type": "stream",
     "text": [
      "Enter the first number 4.2\n",
      "Enter the second number 5\n",
      "Choose an operation (add, subtract, multiply, divide) add\n"
     ]
    },
    {
     "name": "stdout",
     "output_type": "stream",
     "text": [
      "The result of adding 4.2 and 5.0 is 9.2\n"
     ]
    }
   ],
   "source": [
    "Number_1 = float(input(\"Enter the first number\"))\n",
    "Number_2 = float(input(\"Enter the second number\"))\n",
    "operation = input(\"Choose an operation (add, subtract, multiply, divide)\")\n",
    "\n",
    "if operation == 'add':\n",
    "    Result = Number_1 + Number_2\n",
    "    print(f\"The result of adding {Number_1} and {Number_2} is {Result}\")\n",
    "\n",
    "elif operation == 'subtract':\n",
    "    result = Number_1 - Number_2\n",
    "    print(f\"The result of subtracting {Number_2} from {Number_1} is {Result}\")\n",
    "\n",
    "elif operation == 'multiply':\n",
    "    result = Number_1 * Number_2\n",
    "    print(f\"The result of multiplying {Number_1} and {Number_2} is {Result}\")\n",
    "\n",
    "elif operation == 'divide':\n",
    "    if Number_2 != 0:\n",
    "        result = Number_1 / Number_2\n",
    "        print(f\"The result of dividing {Number_1} by {Number_2} is {Result}\")\n",
    "else:\n",
    "        print(\"Error: Division by zero is not allowed\")\n"
   ]
  },
  {
   "cell_type": "code",
   "execution_count": 13,
   "id": "891479a9-c95f-4088-b5ed-c65633ee36f4",
   "metadata": {},
   "outputs": [
    {
     "name": "stdin",
     "output_type": "stream",
     "text": [
      "Enter your Age 6\n"
     ]
    },
    {
     "name": "stdout",
     "output_type": "stream",
     "text": [
      "Category: Child\n"
     ]
    }
   ],
   "source": [
    "\n",
    "Age = int(input(\"Enter your Age\"))\n",
    " \n",
    "if 0 <= Age <= 12:\n",
    "    \n",
    "    print(\"Category: Child\")\n",
    "\n",
    "elif 13 <= Age <= 19:\n",
    "        print(\"Category: Teen\")\n",
    "elif 20 <= Age <= 64:\n",
    "        print(\"Category: Adult\")\n",
    "elif Age >= 65:\n",
    "        print(\"Category: Senior\")\n",
    "else:\n",
    "        print(\"Invalid Age entered.\")"
   ]
  },
  {
   "cell_type": "code",
   "execution_count": null,
   "id": "4b665a9f-ea3f-4f01-bf84-3f5950f4f79f",
   "metadata": {},
   "outputs": [],
   "source": []
  }
 ],
 "metadata": {
  "kernelspec": {
   "display_name": "Python 3 (ipykernel)",
   "language": "python",
   "name": "python3"
  },
  "language_info": {
   "codemirror_mode": {
    "name": "ipython",
    "version": 3
   },
   "file_extension": ".py",
   "mimetype": "text/x-python",
   "name": "python",
   "nbconvert_exporter": "python",
   "pygments_lexer": "ipython3",
   "version": "3.13.5"
  }
 },
 "nbformat": 4,
 "nbformat_minor": 5
}
